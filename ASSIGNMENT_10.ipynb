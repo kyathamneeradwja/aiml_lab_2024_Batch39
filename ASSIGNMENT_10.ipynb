{
  "nbformat": 4,
  "nbformat_minor": 0,
  "metadata": {
    "colab": {
      "provenance": []
    },
    "kernelspec": {
      "name": "python3",
      "display_name": "Python 3"
    },
    "language_info": {
      "name": "python"
    }
  },
  "cells": [
    {
      "cell_type": "code",
      "source": [
        "# Importing necessary libraries\n",
        "import pandas as pd\n",
        "from sklearn.model_selection import train_test_split\n",
        "from sklearn.preprocessing import LabelEncoder, OneHotEncoder\n",
        "from sklearn.metrics import accuracy_score, classification_report\n",
        "from datetime import datetime\n",
        "\n",
        "# Load the dataset\n",
        "data = pd.read_csv(\"/content/breast_cancer_survival.csv\") # Replace \"your_dataset.csv\" with the path to your dataset file\n",
        "\n",
        "# Dropping rows with missing values\n",
        "data.dropna(inplace=True)\n",
        "\n",
        "# Separate features and target variable\n",
        "X = data.drop(columns=[\"Patient_Status\"])\n",
        "y = data[\"Patient_Status\"]\n",
        "\n",
        "# Encoding categorical variables\n",
        "encoder = LabelEncoder()\n",
        "X_encoded = X.copy()\n",
        "for col in X.columns:\n",
        "    if X[col].dtype == 'object':\n",
        "            X_encoded[col] = encoder.fit_transform(X[col])\n",
        "\n",
        "# One-hot encoding categorical variables\n",
        "categorical_cols = ['Tumour_Stage', 'Histology', 'ER status', 'PR status', 'HER2 status', 'Surgery_type']\n",
        "X_encoded = pd.get_dummies(X_encoded, columns=categorical_cols)\n",
        "\n",
        "            # Convert date variables to numerical representation\n",
        "date_columns = ['Date_of_Surgery', 'Date_of_Last_Visit']\n",
        "for col in date_columns:\n",
        "        X_encoded[col] = pd.to_datetime(X_encoded[col], errors='coerce')\n",
        "        X_encoded[col] = (X_encoded[col] - datetime(1970, 1, 1)).dt.total_seconds()\n",
        "\n",
        "                    # Splitting the dataset into train and test sets\n",
        "X_train, X_test, y_train, y_test = train_test_split(X_encoded, y, test_size=0.2, random_state=42)\n",
        "\n",
        ""
      ],
      "metadata": {
        "id": "Ld-1b9oaSB-6"
      },
      "execution_count": 1,
      "outputs": []
    },
    {
      "cell_type": "code",
      "source": [
        "from sklearn.ensemble import RandomForestClassifier\n",
        "\n",
        "# Initializing Random Forest classifier\n",
        "rf_classifier = RandomForestClassifier(n_estimators=100, random_state=42)\n",
        "\n",
        "# Training the Random Forest model\n",
        "rf_classifier.fit(X_train, y_train)\n",
        "\n",
        "# Predicting on the test set\n",
        "y_pred_rf = rf_classifier.predict(X_test)\n",
        "\n",
        "# Evaluating the Random Forest model\n",
        "accuracy_rf = accuracy_score(y_test, y_pred_rf)\n",
        "print(\"Random Forest Accuracy:\", accuracy_rf)\n",
        "print(\"\\nRandom Forest Classification Report:\\n\", classification_report(y_test, y_pred_rf))\n"
      ],
      "metadata": {
        "colab": {
          "base_uri": "https://localhost:8080/"
        },
        "id": "_SMrWGk7Sk1P",
        "outputId": "757e5449-a0a3-4f89-bff3-db3f28e12ff2"
      },
      "execution_count": 2,
      "outputs": [
        {
          "output_type": "stream",
          "name": "stdout",
          "text": [
            "Random Forest Accuracy: 0.796875\n",
            "\n",
            "Random Forest Classification Report:\n",
            "               precision    recall  f1-score   support\n",
            "\n",
            "       Alive       0.80      1.00      0.89        51\n",
            "        Dead       0.00      0.00      0.00        13\n",
            "\n",
            "    accuracy                           0.80        64\n",
            "   macro avg       0.40      0.50      0.44        64\n",
            "weighted avg       0.64      0.80      0.71        64\n",
            "\n"
          ]
        },
        {
          "output_type": "stream",
          "name": "stderr",
          "text": [
            "/usr/local/lib/python3.10/dist-packages/sklearn/metrics/_classification.py:1344: UndefinedMetricWarning: Precision and F-score are ill-defined and being set to 0.0 in labels with no predicted samples. Use `zero_division` parameter to control this behavior.\n",
            "  _warn_prf(average, modifier, msg_start, len(result))\n",
            "/usr/local/lib/python3.10/dist-packages/sklearn/metrics/_classification.py:1344: UndefinedMetricWarning: Precision and F-score are ill-defined and being set to 0.0 in labels with no predicted samples. Use `zero_division` parameter to control this behavior.\n",
            "  _warn_prf(average, modifier, msg_start, len(result))\n",
            "/usr/local/lib/python3.10/dist-packages/sklearn/metrics/_classification.py:1344: UndefinedMetricWarning: Precision and F-score are ill-defined and being set to 0.0 in labels with no predicted samples. Use `zero_division` parameter to control this behavior.\n",
            "  _warn_prf(average, modifier, msg_start, len(result))\n"
          ]
        }
      ]
    },
    {
      "cell_type": "code",
      "source": [
        "from sklearn.ensemble import AdaBoostClassifier\n",
        "\n",
        "# Initializing AdaBoost classifier\n",
        "adaboost_classifier = AdaBoostClassifier(n_estimators=50, random_state=42)\n",
        "\n",
        "# Training the AdaBoost model\n",
        "adaboost_classifier.fit(X_train, y_train)\n",
        "\n",
        "# Predicting on the test set\n",
        "y_pred_adaboost = adaboost_classifier.predict(X_test)\n",
        "\n",
        "# Evaluating the AdaBoost model\n",
        "accuracy_adaboost = accuracy_score(y_test, y_pred_adaboost)\n",
        "print(\"AdaBoost Accuracy:\", accuracy_adaboost)\n",
        "print(\"\\nAdaBoost Classification Report:\\n\", classification_report(y_test, y_pred_adaboost))\n"
      ],
      "metadata": {
        "colab": {
          "base_uri": "https://localhost:8080/"
        },
        "id": "pM5ft22MS94h",
        "outputId": "dccbf448-eda7-4e4a-c657-6c268be80e28"
      },
      "execution_count": 3,
      "outputs": [
        {
          "output_type": "stream",
          "name": "stdout",
          "text": [
            "AdaBoost Accuracy: 0.765625\n",
            "\n",
            "AdaBoost Classification Report:\n",
            "               precision    recall  f1-score   support\n",
            "\n",
            "       Alive       0.82      0.90      0.86        51\n",
            "        Dead       0.38      0.23      0.29        13\n",
            "\n",
            "    accuracy                           0.77        64\n",
            "   macro avg       0.60      0.57      0.57        64\n",
            "weighted avg       0.73      0.77      0.74        64\n",
            "\n"
          ]
        }
      ]
    }
  ]
}